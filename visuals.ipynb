{
 "cells": [
  {
   "cell_type": "code",
   "execution_count": 2,
   "id": "fc4bd100",
   "metadata": {},
   "outputs": [],
   "source": [
    "import pandas as pd\n",
    "import seaborn as sns\n",
    "import matplotlib.pyplot as plt\n",
    "sns.set(color_codes=True)"
   ]
  },
  {
   "cell_type": "code",
   "execution_count": 3,
   "id": "2b042372",
   "metadata": {},
   "outputs": [],
   "source": [
    "endo_data = pd.read_csv('structured_endometriosis_data.csv')"
   ]
  },
  {
   "cell_type": "code",
   "execution_count": 4,
   "id": "8dc4e6b1",
   "metadata": {},
   "outputs": [
    {
     "data": {
      "text/html": [
       "<div>\n",
       "<style scoped>\n",
       "    .dataframe tbody tr th:only-of-type {\n",
       "        vertical-align: middle;\n",
       "    }\n",
       "\n",
       "    .dataframe tbody tr th {\n",
       "        vertical-align: top;\n",
       "    }\n",
       "\n",
       "    .dataframe thead th {\n",
       "        text-align: right;\n",
       "    }\n",
       "</style>\n",
       "<table border=\"1\" class=\"dataframe\">\n",
       "  <thead>\n",
       "    <tr style=\"text-align: right;\">\n",
       "      <th></th>\n",
       "      <th>Age</th>\n",
       "      <th>Menstrual_Irregularity</th>\n",
       "      <th>Chronic_Pain_Level</th>\n",
       "      <th>Hormone_Level_Abnormality</th>\n",
       "      <th>Infertility</th>\n",
       "      <th>BMI</th>\n",
       "      <th>Diagnosis</th>\n",
       "    </tr>\n",
       "  </thead>\n",
       "  <tbody>\n",
       "    <tr>\n",
       "      <th>0</th>\n",
       "      <td>24</td>\n",
       "      <td>1</td>\n",
       "      <td>8.361531</td>\n",
       "      <td>0</td>\n",
       "      <td>0</td>\n",
       "      <td>19.451314</td>\n",
       "      <td>0</td>\n",
       "    </tr>\n",
       "    <tr>\n",
       "      <th>1</th>\n",
       "      <td>37</td>\n",
       "      <td>1</td>\n",
       "      <td>4.995508</td>\n",
       "      <td>0</td>\n",
       "      <td>0</td>\n",
       "      <td>22.388436</td>\n",
       "      <td>0</td>\n",
       "    </tr>\n",
       "    <tr>\n",
       "      <th>2</th>\n",
       "      <td>46</td>\n",
       "      <td>1</td>\n",
       "      <td>3.363996</td>\n",
       "      <td>1</td>\n",
       "      <td>0</td>\n",
       "      <td>21.320443</td>\n",
       "      <td>0</td>\n",
       "    </tr>\n",
       "    <tr>\n",
       "      <th>3</th>\n",
       "      <td>32</td>\n",
       "      <td>1</td>\n",
       "      <td>5.246037</td>\n",
       "      <td>0</td>\n",
       "      <td>0</td>\n",
       "      <td>20.177715</td>\n",
       "      <td>1</td>\n",
       "    </tr>\n",
       "    <tr>\n",
       "      <th>4</th>\n",
       "      <td>28</td>\n",
       "      <td>1</td>\n",
       "      <td>3.898932</td>\n",
       "      <td>1</td>\n",
       "      <td>0</td>\n",
       "      <td>23.538103</td>\n",
       "      <td>1</td>\n",
       "    </tr>\n",
       "  </tbody>\n",
       "</table>\n",
       "</div>"
      ],
      "text/plain": [
       "   Age  Menstrual_Irregularity  Chronic_Pain_Level  Hormone_Level_Abnormality  \\\n",
       "0   24                       1            8.361531                          0   \n",
       "1   37                       1            4.995508                          0   \n",
       "2   46                       1            3.363996                          1   \n",
       "3   32                       1            5.246037                          0   \n",
       "4   28                       1            3.898932                          1   \n",
       "\n",
       "   Infertility        BMI  Diagnosis  \n",
       "0            0  19.451314          0  \n",
       "1            0  22.388436          0  \n",
       "2            0  21.320443          0  \n",
       "3            0  20.177715          1  \n",
       "4            0  23.538103          1  "
      ]
     },
     "execution_count": 4,
     "metadata": {},
     "output_type": "execute_result"
    }
   ],
   "source": [
    "endo_data.head()"
   ]
  },
  {
   "cell_type": "code",
   "execution_count": null,
   "id": "da71fb41",
   "metadata": {},
   "outputs": [],
   "source": [
    "# color mapping categories for consistency - can change color palette later to match website\n",
    "categories = ['Age', 'Menstrual_Irregularity', 'Chronic_Pain_Level', 'Hormone_Level_Abnormality', 'Infertility', 'Diagnosis']\n",
    "\n",
    "graph_colors=sns.color_palette(\"Set2\", n_colors=len(categories))\n",
    "category_colors = dict(zip(categories, graph_colors))"
   ]
  },
  {
   "cell_type": "code",
   "execution_count": null,
   "id": "fab295e7",
   "metadata": {},
   "outputs": [
    {
     "name": "stderr",
     "output_type": "stream",
     "text": [
      "C:\\Users\\8626j\\AppData\\Local\\Temp\\ipykernel_23272\\222397515.py:13: FutureWarning: \n",
      "\n",
      "The `ci` parameter is deprecated. Use `errorbar=None` for the same effect.\n",
      "\n",
      "  sns.barplot(\n"
     ]
    },
    {
     "data": {
      "image/png": "[encoded data removed]",
      "text/plain": [
       "<Figure size 800x600 with 1 Axes>"
      ]
     },
     "metadata": {},
     "output_type": "display_data"
    }
   ],
   "source": [
    "# bin age groups\n",
    "bins = [10, 20, 30, 40, 50]  # our data only goes up to 50\n",
    "labels = ['10-19', '20-29', '30-39', '40-49']\n",
    "endo_data['Age_Group'] = pd.cut(endo_data['Age'], bins=bins, labels=labels, right=False)\n",
    "\n",
    "# compute pain level correctly\n",
    "endo_data['Chronic_Pain_Level'] = pd.to_numeric(endo_data['Chronic_Pain_Level'], errors='coerce')\n",
    "\n",
    "# swap diagnosis interpretation\n",
    "endo_data['Diagnosis'] = endo_data['Diagnosis'].map({0: 'No', 1: 'Yes'})\n",
    "\n",
    "plt.figure(figsize=(8,6))\n",
    "sns.barplot(\n",
    "    x='Age_Group',\n",
    "    y='Chronic_Pain_Level',\n",
    "    hue='Diagnosis',\n",
    "    data=endo_data,\n",
    "    ci=None,\n",
    "    palette=['#a6bddb', '#2b8cbe']\n",
    ")\n",
    "sns.stripplot(\n",
    "    x='Age_Group',\n",
    "    y='Chronic_Pain_Level',\n",
    "    hue='Diagnosis',\n",
    "    data=endo_data,\n",
    "    dodge=True,\n",
    "    color='black',\n",
    "    alpha=0.5\n",
    ")\n",
    "plt.title('Average Pain Level by Age Group and Diagnosis')\n",
    "plt.xlabel('Age Group')\n",
    "plt.ylabel('Chronic Pain Level')\n",
    "plt.legend(title='Diagnosis')\n",
    "plt.ylim(0,10)\n",
    "plt.tight_layout()\n",
    "plt.show()"
   ]
  }
 ],
 "metadata": {
  "kernelspec": {
   "display_name": "Python 3",
   "language": "python",
   "name": "python3"
  },
  "language_info": {
   "codemirror_mode": {
    "name": "ipython",
    "version": 3
   },
   "file_extension": ".py",
   "mimetype": "text/x-python",
   "name": "python",
   "nbconvert_exporter": "python",
   "pygments_lexer": "ipython3",
   "version": "3.12.2"
  }
 },
 "nbformat": 4,
 "nbformat_minor": 5
}
